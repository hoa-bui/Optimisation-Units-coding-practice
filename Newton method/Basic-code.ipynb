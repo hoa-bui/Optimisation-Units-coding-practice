{
 "cells": [
  {
   "cell_type": "code",
   "execution_count": 1,
   "id": "b0ef4c8b",
   "metadata": {},
   "outputs": [],
   "source": [
    "import numpy as np\n",
    "import math\n",
    "from sympy import *\n",
    "import matplotlib\n",
    "import matplotlib.pyplot as plt"
   ]
  },
  {
   "cell_type": "markdown",
   "id": "1c782467",
   "metadata": {},
   "source": [
    "# Newton Method\n",
    "\n",
    "## Input: \n",
    "1. Objective function\n",
    "2. Starting point\n",
    "3. Number of iteration\n",
    "4. Optimality gap\n",
    "\n",
    "## Before we start: check if the Hessian matrix is Invertible \n",
    "\n",
    "\n",
    "## Compute:\n",
    "\n",
    "1. Gradient function\n",
    "2. Hessian matrix\n",
    "3. Stopping condition\n",
    "\n",
    "## Visualisation:"
   ]
  },
  {
   "cell_type": "markdown",
   "id": "19836ed8",
   "metadata": {},
   "source": [
    "Find the local minimum for the function $f(x) = 2x_1^2+x_2^3$"
   ]
  },
  {
   "cell_type": "code",
   "execution_count": 2,
   "id": "40b3a316",
   "metadata": {},
   "outputs": [],
   "source": [
    "# Objective function: f(x)\n",
    "#define variables and formula\n",
    "x,y = symbols('x,y')\n",
    "f =  x**4+2*y**2-x*y\n",
    "\n",
    "#Value of function\n",
    "f_val = lambdify([x,y],f)\n",
    "\n",
    "# Compute the gradient: f'(x) = 2x\n",
    "f_grad = [lambdify([x,y],diff(f, x)),lambdify([x,y],diff(f, y))]\n",
    "\n",
    "\n",
    "#Compute the Hessian\n",
    "def Hessian(x1,x2):\n",
    "    H_xx = lambdify([x,y],diff(f, x,x) )\n",
    "    H_xy = lambdify([x,y],diff(f, x,y) )\n",
    "    H_yy = lambdify([x,y],diff(f, y,y) )\n",
    "    \n",
    "    return np.array([[H_xx(x1,x2),H_xy(x1,x2)],[H_xy(x1,x2),H_yy(x1,x2)]])\n",
    "\n",
    "#calculate the Euclidean norm between two vectors\n",
    "def Euclidean_distance(x1,x2):\n",
    "    #x1, x2 are vectors\n",
    "    w = x1 - x2   \n",
    "    return math.sqrt(np.sum(w*w))\n",
    "\n",
    "#Check if the matrix is invertiable\n",
    "def is_invertible(a):   \n",
    "    return a.shape[0] == a.shape[1] and np.linalg.matrix_rank(a) == a.shape[0]"
   ]
  },
  {
   "cell_type": "markdown",
   "id": "00a3c653",
   "metadata": {},
   "source": [
    "# Newton Method\n",
    "1. max_iterations: Maximum number of iterations to run\n",
    "2. threshold: Stop if the difference in function values between two successive iterations falls below this threshold\n",
    "3. w_init: Initial point from where to start gradient descent"
   ]
  },
  {
   "cell_type": "code",
   "execution_count": 3,
   "id": "9817bc04",
   "metadata": {},
   "outputs": [],
   "source": [
    "def Newton_Method(max_iterations,threshold,w_init):\n",
    "    \n",
    "    w = w_init\n",
    "    # store the history of w and f\n",
    "    w_history = w\n",
    "    f_history = f_val(w[0],w[1])\n",
    "    #update direction\n",
    "    delta_w = np.zeros(w.shape)\n",
    "    i = 0\n",
    "    diff = 1.0e10   #+infinity\n",
    "    \n",
    "    #stopping condition: (1) the number of iteration is larger than max_iterations, or\n",
    "    #(2) the optimality gap is smaller than threshold\n",
    "    \n",
    "    while  i < max_iterations and diff>threshold:\n",
    "        Hess = Hessian(w[0],w[1])\n",
    "        if is_invertible(Hess) == False:\n",
    "            print('Error: Singlar matrix')\n",
    "            i = max_iterations\n",
    "        else:\n",
    "            #update next iteration\n",
    "            delta_w = np.dot(np.linalg.inv(Hess),[f_grad[0](w[0],w[1]),f_grad[1](w[0],w[1])])\n",
    "            w = w - delta_w\n",
    "            # store the history of w and f\n",
    "            w_history = np.vstack((w_history,w))\n",
    "            f_history = np.vstack((f_history,f_val(w[0],w[1])))\n",
    "        \n",
    "            # update iteration number and diff between successive values of objective function\n",
    "            i+=1\n",
    "            diff = Euclidean_distance(f_history[-1],f_history[-2])\n",
    "    print(i)    \n",
    "    \n",
    "    return w_history,f_history"
   ]
  },
  {
   "cell_type": "markdown",
   "id": "7771e416",
   "metadata": {},
   "source": [
    "# Visualisation"
   ]
  },
  {
   "cell_type": "code",
   "execution_count": 4,
   "id": "b446fff5",
   "metadata": {},
   "outputs": [
    {
     "name": "stdout",
     "output_type": "stream",
     "text": [
      "4\n"
     ]
    }
   ],
   "source": [
    "rand = np.random.RandomState(10)\n",
    "w_init = rand.uniform(-1,1,2)\n",
    "#fig, ax = plt.plot(figsize=(25, 5))\n",
    "w_History,f_History = Newton_Method(40,0.00005,w_init)"
   ]
  },
  {
   "cell_type": "code",
   "execution_count": 5,
   "id": "337ee079",
   "metadata": {
    "scrolled": true
   },
   "outputs": [
    {
     "data": {
      "image/png": "[encoded data removed]",
      "text/plain": [
       "<Figure size 432x288 with 2 Axes>"
      ]
     },
     "metadata": {
      "needs_background": "light"
     },
     "output_type": "display_data"
    }
   ],
   "source": [
    "from pylab import cm\n",
    "\n",
    "x1_min = -1.0\n",
    "x1_max = 1.0\n",
    "x2_min = -1.0\n",
    "x2_max = 1.0\n",
    "\n",
    "x1, x2 = np.meshgrid(np.arange(x1_min,x1_max, 0.01), np.arange(x2_min,x2_max, 0.01))\n",
    "\n",
    "y = f_val(x1,x2)\n",
    "\n",
    "plt.imshow(y,extent=[x1_min,x1_max,x2_min,x2_max], cmap=cm.jet, origin='lower')\n",
    "\n",
    "plt.colorbar()\n",
    "\n",
    "plt.title(\"Newton method\" , fontsize=8)\n",
    "\n",
    "plt.plot(w_History[:,0],w_History[:,1],marker='o',c='magenta') \n",
    "\n",
    "plt.show()"
   ]
  },
  {
   "cell_type": "code",
   "execution_count": null,
   "id": "a7a295f0",
   "metadata": {},
   "outputs": [],
   "source": []
  },
  {
   "cell_type": "code",
   "execution_count": null,
   "id": "37f76240",
   "metadata": {},
   "outputs": [],
   "source": []
  },
  {
   "cell_type": "code",
   "execution_count": null,
   "id": "dbd8224a",
   "metadata": {},
   "outputs": [],
   "source": []
  }
 ],
 "metadata": {
  "kernelspec": {
   "display_name": "Python 3 (ipykernel)",
   "language": "python",
   "name": "python3"
  },
  "language_info": {
   "codemirror_mode": {
    "name": "ipython",
    "version": 3
   },
   "file_extension": ".py",
   "mimetype": "text/x-python",
   "name": "python",
   "nbconvert_exporter": "python",
   "pygments_lexer": "ipython3",
   "version": "3.8.8"
  }
 },
 "nbformat": 4,
 "nbformat_minor": 5
}
