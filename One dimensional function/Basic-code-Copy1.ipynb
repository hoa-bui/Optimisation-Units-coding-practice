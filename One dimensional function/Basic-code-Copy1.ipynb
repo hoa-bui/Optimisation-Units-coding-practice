{
 "cells": [
  {
   "cell_type": "code",
   "execution_count": 2,
   "id": "b0ef4c8b",
   "metadata": {},
   "outputs": [],
   "source": [
    "import numpy as np\n",
    "import math\n",
    "from sympy import *\n",
    "import matplotlib\n",
    "import matplotlib.pyplot as plt"
   ]
  },
  {
   "cell_type": "markdown",
   "id": "1c782467",
   "metadata": {},
   "source": [
    "# Fibonacci Search algorithm\n",
    "\n",
    "## Input: \n",
    "1. Objective function\n",
    "2. Boundary points\n",
    "4. Tolerance\n",
    "\n",
    "\n",
    "## Compute:\n",
    "\n",
    "1. Golden ratio\n",
    "3. Stopping condition\n",
    "\n",
    "\n",
    "## Visualisation:"
   ]
  },
  {
   "cell_type": "markdown",
   "id": "19836ed8",
   "metadata": {},
   "source": [
    "Find the local minimum for the function"
   ]
  },
  {
   "cell_type": "code",
   "execution_count": 3,
   "id": "40b3a316",
   "metadata": {},
   "outputs": [],
   "source": [
    "# Objective function: f(x)\n",
    "#define variables and formula\n",
    "x = symbols('x')\n",
    "f =  abs(sin(2*pi*x)-10*(2*x-1))\n",
    "#Value of function\n",
    "f_val = lambdify([x],f)"
   ]
  },
  {
   "cell_type": "markdown",
   "id": "00a3c653",
   "metadata": {},
   "source": [
    "# Golden-Section Search\n",
    "1. Function f\n",
    "2. a and b are boundary points\n",
    "3. tol = tolerance \n",
    "4. Iter = max no. of iterations"
   ]
  },
  {
   "cell_type": "code",
   "execution_count": 44,
   "id": "9817bc04",
   "metadata": {},
   "outputs": [],
   "source": [
    "def FibonacciGenerator(n):\n",
    "    if n < 1:\n",
    "        return 0\n",
    "    elif n == 1:\n",
    "        return 1\n",
    "    else:\n",
    "        return FibonacciGenerator(n - 1) + FibonacciGenerator(n - 2)\n",
    "\n",
    "def Fibonacci_Search(f, a, b, tol, Iter):\n",
    "    m = 1\n",
    "    #store Fibonacci\n",
    "    f_history = FibonacciGenerator(m)\n",
    "    # find the max iteration\n",
    "    L1 = b - a\n",
    "    while L1/FibonacciGenerator(m) > tol and m < Iter:\n",
    "        m += 1\n",
    "        f_history = np.vstack((f_history,FibonacciGenerator(m)))\n",
    "    #store history iterations\n",
    "    a_history = a\n",
    "    b_history = b\n",
    "    k = 3\n",
    "    while m+1 >k and k < Iter:\n",
    "        #update delta\n",
    "        delta =  f_history[m-k]/f_history[m+2-k]\n",
    "        \n",
    "        #compute boundary candidates\n",
    "        x1 = b - delta*L1\n",
    "        x2 = a + delta*L1\n",
    "        \n",
    "        #update boundary\n",
    "        if f(x2) < f(x1):\n",
    "            b = x1\n",
    "        else:\n",
    "            a = x2\n",
    "            \n",
    "        #store boundary\n",
    "        a_history = np.vstack((a_history,a))\n",
    "        b_history = np.vstack((b_history,b))\n",
    "        \n",
    "        #update iteration and L\n",
    "        k +=1\n",
    "        L1 = b - a\n",
    "    return a_history,b_history"
   ]
  },
  {
   "cell_type": "code",
   "execution_count": 42,
   "id": "88150eff",
   "metadata": {
    "scrolled": false
   },
   "outputs": [],
   "source": [
    "#run algorithm\n",
    "a_init = -1\n",
    "b_init = 1\n",
    "a_History,b_History = Fibonacci_Search(f_val,a_init,b_init,1.0e-3,20)\n",
    "N = len(a_History)"
   ]
  },
  {
   "cell_type": "markdown",
   "id": "7771e416",
   "metadata": {},
   "source": [
    "# Visualisation"
   ]
  },
  {
   "cell_type": "code",
   "execution_count": 43,
   "id": "a7a295f0",
   "metadata": {},
   "outputs": [
    {
     "data": {
      "image/png": "[encoded data removed]",
      "text/plain": [
       "<Figure size 432x288 with 1 Axes>"
      ]
     },
     "metadata": {
      "needs_background": "light"
     },
     "output_type": "display_data"
    }
   ],
   "source": [
    "#from pylab import figure, cm\n",
    "r_min, r_max = a_init, b_init \n",
    "Range = np.arange(r_min, r_max, 0.01)\n",
    "value = f_val(Range)\n",
    "plt.plot(Range, value)\n",
    "plt.title(\"Golden-Section Search\" , fontsize=8)\n",
    "plt.plot(a_History,np.zeros(N),marker='o',c='cyan') \n",
    "plt.plot(b_History,np.zeros(N),marker='x',c='blue') \n",
    "plt.show()"
   ]
  },
  {
   "cell_type": "code",
   "execution_count": null,
   "id": "37f76240",
   "metadata": {},
   "outputs": [],
   "source": []
  },
  {
   "cell_type": "code",
   "execution_count": null,
   "id": "dbd8224a",
   "metadata": {},
   "outputs": [],
   "source": []
  }
 ],
 "metadata": {
  "kernelspec": {
   "display_name": "Python 3 (ipykernel)",
   "language": "python",
   "name": "python3"
  },
  "language_info": {
   "codemirror_mode": {
    "name": "ipython",
    "version": 3
   },
   "file_extension": ".py",
   "mimetype": "text/x-python",
   "name": "python",
   "nbconvert_exporter": "python",
   "pygments_lexer": "ipython3",
   "version": "3.8.8"
  }
 },
 "nbformat": 4,
 "nbformat_minor": 5
}
