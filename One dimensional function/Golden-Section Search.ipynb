{
 "cells": [
  {
   "cell_type": "code",
   "execution_count": 1,
   "id": "b0ef4c8b",
   "metadata": {},
   "outputs": [],
   "source": [
    "import numpy as np\n",
    "import math\n",
    "from sympy import *\n",
    "import matplotlib\n",
    "import matplotlib.pyplot as plt"
   ]
  },
  {
   "cell_type": "markdown",
   "id": "1c782467",
   "metadata": {},
   "source": [
    "# Golden-Section Search\n",
    "\n",
    "## Input: \n",
    "1. Objective function\n",
    "2. Boundary points\n",
    "3. Number of iteration\n",
    "4. Tolerance\n",
    "\n",
    "\n",
    "## Compute:\n",
    "\n",
    "1. Golden ratio\n",
    "3. Stopping condition\n",
    "\n",
    "\n",
    "## Visualisation:"
   ]
  },
  {
   "cell_type": "markdown",
   "id": "19836ed8",
   "metadata": {},
   "source": [
    "Find the local minimum for the function"
   ]
  },
  {
   "cell_type": "code",
   "execution_count": 2,
   "id": "40b3a316",
   "metadata": {},
   "outputs": [],
   "source": [
    "# Objective function: f(x)\n",
    "#define variables and formula\n",
    "x = symbols('x')\n",
    "f =  abs(sin(2*pi*x)-10*(2*x-1))\n",
    "#Value of function\n",
    "f_val = lambdify([x],f)"
   ]
  },
  {
   "cell_type": "markdown",
   "id": "00a3c653",
   "metadata": {},
   "source": [
    "# Golden-Section Search\n",
    "1. Function f\n",
    "2. a and b are boundary points\n",
    "3. tol = tolerance \n",
    "4. Iter = max no. of iterations"
   ]
  },
  {
   "cell_type": "code",
   "execution_count": 8,
   "id": "9817bc04",
   "metadata": {},
   "outputs": [],
   "source": [
    "gr = (math.sqrt(5) + 1) / 2\n",
    "\n",
    "def golden_ss(f, a, b, tol, Iter):\n",
    "    \n",
    "    #Candidate boundary points\n",
    "    c = b - (b - a) / gr\n",
    "    d = a + (b - a) / gr\n",
    "    \n",
    "    k = 0\n",
    "    #store history iterations\n",
    "    a_history = a\n",
    "    b_history = b\n",
    "    while abs(b - a) > tol and k < Iter:\n",
    "        #update boundary points\n",
    "        if f(c) < f(d):  \n",
    "            b = d\n",
    "        else:\n",
    "            a = c\n",
    "        #update candidate\n",
    "        c = b - (b - a) / gr\n",
    "        d = a + (b - a) / gr\n",
    "        k += 1\n",
    "        \n",
    "        #store the history iterations\n",
    "        a_history = np.vstack((a_history,a))\n",
    "        b_history = np.vstack((b_history,b))\n",
    "    return a_history,b_history"
   ]
  },
  {
   "cell_type": "code",
   "execution_count": 4,
   "id": "88150eff",
   "metadata": {},
   "outputs": [],
   "source": [
    "#run algorithm\n",
    "a_init = 0\n",
    "b_init = 1\n",
    "a_History,b_History = golden_ss(f_val,a_init,b_init,1.0e-3,10)\n",
    "N = len(a_History)"
   ]
  },
  {
   "cell_type": "markdown",
   "id": "7771e416",
   "metadata": {},
   "source": [
    "# Visualisation"
   ]
  },
  {
   "cell_type": "code",
   "execution_count": 5,
   "id": "a7a295f0",
   "metadata": {},
   "outputs": [
    {
     "data": {
      "image/png": "[encoded data removed]",
      "text/plain": [
       "<Figure size 432x288 with 1 Axes>"
      ]
     },
     "metadata": {
      "needs_background": "light"
     },
     "output_type": "display_data"
    }
   ],
   "source": [
    "#from pylab import figure, cm\n",
    "r_min, r_max = a_init, b_init \n",
    "Range = np.arange(r_min, r_max, 0.01)\n",
    "value = f_val(Range)\n",
    "plt.plot(Range, value)\n",
    "plt.title(\"Golden-Section Search\" , fontsize=8)\n",
    "plt.plot(a_History,np.zeros(N),marker='o',c='cyan') \n",
    "plt.plot(b_History,np.zeros(N),marker='x',c='blue') \n",
    "plt.show()"
   ]
  },
  {
   "cell_type": "code",
   "execution_count": null,
   "id": "37f76240",
   "metadata": {},
   "outputs": [],
   "source": []
  },
  {
   "cell_type": "code",
   "execution_count": null,
   "id": "dbd8224a",
   "metadata": {},
   "outputs": [],
   "source": []
  }
 ],
 "metadata": {
  "kernelspec": {
   "display_name": "Python 3 (ipykernel)",
   "language": "python",
   "name": "python3"
  },
  "language_info": {
   "codemirror_mode": {
    "name": "ipython",
    "version": 3
   },
   "file_extension": ".py",
   "mimetype": "text/x-python",
   "name": "python",
   "nbconvert_exporter": "python",
   "pygments_lexer": "ipython3",
   "version": "3.8.8"
  }
 },
 "nbformat": 4,
 "nbformat_minor": 5
}
